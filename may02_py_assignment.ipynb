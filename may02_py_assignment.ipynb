{
 "cells": [
  {
   "cell_type": "code",
   "execution_count": 1,
   "metadata": {},
   "outputs": [
    {
     "name": "stdout",
     "output_type": "stream",
     "text": [
      "akhy lives at home akhy akhy home\n",
      "{'akhy': 3, 'lives': 1, 'at': 1, 'home': 2}\n"
     ]
    }
   ],
   "source": [
    "### frequency ###\n",
    "s=input().split()\n",
    "dict={x : s.count(x) for x in s}        \n",
    "print(dict)"
   ]
  },
  {
   "cell_type": "code",
   "execution_count": 2,
   "metadata": {},
   "outputs": [
    {
     "name": "stdout",
     "output_type": "stream",
     "text": [
      "akhy lives at home akhy akhy home\n",
      "{4: ['akhy', 'home', 'akhy', 'akhy', 'home'], 5: ['lives'], 2: ['at']}\n",
      "['lives']\n"
     ]
    }
   ],
   "source": [
    "### max length ###\n",
    "dict_y = {}\n",
    "s =input()\n",
    "s = s.split()\n",
    "for x in s:\n",
    "    try :\n",
    "        dict_y[len(x)] += [x]\n",
    "    except:\n",
    "        dict_y[len(x)] = [x]\n",
    "        \n",
    "print(dict_y)\n",
    "\n",
    "max=0\n",
    "for i in dict_y.keys():\n",
    "    if i > max:\n",
    "        max=i\n",
    "print(dict_y[max])"
   ]
  },
  {
   "cell_type": "code",
   "execution_count": 8,
   "metadata": {},
   "outputs": [
    {
     "name": "stdout",
     "output_type": "stream",
     "text": [
      "3 4 5 1 2 9 6\n",
      "[1, 2, 3, 4, 5, 6, 9]\n"
     ]
    }
   ],
   "source": [
    "### implementing sort algorithm ###\n",
    "lst=list(map(int,input().split()))\n",
    "\n",
    "\n",
    "###selection sort###\n",
    "\n",
    "for i in range(len(lst)-1):\n",
    "    min_index=i\n",
    "    \n",
    "    for j in range(i+1,len(lst)):\n",
    "        if lst[min_index]>lst[j] :\n",
    "            min_index=j\n",
    "\n",
    "    if min_index != i :\n",
    "        lst[i],lst[min_index]=lst[min_index],lst[i]\n",
    "        \n",
    "print(lst)\n"
   ]
  },
  {
   "cell_type": "code",
   "execution_count": 4,
   "metadata": {},
   "outputs": [
    {
     "name": "stdout",
     "output_type": "stream",
     "text": [
      "[3 4 5 1 2 9 6]\n"
     ]
    }
   ],
   "source": [
    "### check sort ###\n",
    "import numpy as np\n",
    "a=np.array([3,4,5,1,2,9,6])\n",
    "np.sort(a)\n",
    "print(a)"
   ]
  },
  {
   "cell_type": "code",
   "execution_count": 5,
   "metadata": {},
   "outputs": [
    {
     "name": "stdout",
     "output_type": "stream",
     "text": [
      "asdfdsa\n",
      "IS PALINDROME\n"
     ]
    }
   ],
   "source": [
    "### palindrome check ###\n",
    "s=input()\n",
    "n=len(s)\n",
    "a={0:\"NOT PALINDROME\",1:\"IS PALINDROME\"}\n",
    "flag=1\n",
    "for i in range((n//2)-1):\n",
    "    if s[i]!=s[n-i-1] :\n",
    "        flag=0\n",
    "        break;\n",
    "print(a[flag]) "
   ]
  },
  {
   "cell_type": "code",
   "execution_count": 7,
   "metadata": {},
   "outputs": [
    {
     "name": "stdout",
     "output_type": "stream",
     "text": [
      "abhishek neeraja\n",
      "{'a': -1, 'b': 1, 'h': 2, 'i': 1, 's': 1, 'e': -1, 'k': 1, 'n': 1, 'r': 1, 'j': 1}\n",
      "11\n",
      "{'F': 'Friendship', 'L': 'Love', 'A': 'Affection', 'M': 'Marriage', 'E': 'Enemity', 'S': 'Siblings'}\n",
      "10\n",
      "['F', 'L', 'A', 'M', 'S']\n",
      "11\n",
      "['F', 'L', 'A', 'M']\n",
      "10\n",
      "['F', 'L', 'M']\n",
      "9\n",
      "['L', 'M']\n",
      "10\n",
      "['M']\n",
      "Marriage\n"
     ]
    }
   ],
   "source": [
    "### FLAMES ###\n",
    "\n",
    "\n",
    "a,b=input().split()\n",
    "\n",
    "### acquiring count \n",
    "\n",
    "dict={x:a.count(x) for x in a }\n",
    "dict2={x:b.count(x) for x in b }\n",
    "\n",
    "        \n",
    "for i in dict2.keys():\n",
    "    try:\n",
    "        dict[i]-=dict2[i]\n",
    "    except:\n",
    "        dict[i]=dict2[i]  \n",
    "        \n",
    "flames_count=0\n",
    "print(dict)\n",
    "for i in dict.values():\n",
    "    if i>0:\n",
    "        flames_count+=i\n",
    "    else:\n",
    "        flames_count-=i\n",
    "\n",
    "print(flames_count)\n",
    "\n",
    "dup=flames_count\n",
    "\n",
    "### logic implementation\n",
    "\n",
    "lst=['F','L','A','M','E','S']\n",
    "lst2=['Friendship','Love','Affection','Marriage','Enemity','Siblings']\n",
    "\n",
    "relation_ship={f: g for (f,g) in zip(lst,lst2)}\n",
    "print(relation_ship)\n",
    "for i in range(5):\n",
    "    lst.remove(lst[(flames_count-1)%(6-i)])\n",
    "    flames_count=dup-(len(lst)+1)+((flames_count-1)%(6-i))+1\n",
    "    print(flames_count)\n",
    "    print(lst)\n",
    "\n",
    "print(relation_ship[lst[0]])"
   ]
  },
  {
   "cell_type": "code",
   "execution_count": null,
   "metadata": {},
   "outputs": [],
   "source": []
  }
 ],
 "metadata": {
  "kernelspec": {
   "display_name": "Python 3",
   "language": "python",
   "name": "python3"
  },
  "language_info": {
   "codemirror_mode": {
    "name": "ipython",
    "version": 3
   },
   "file_extension": ".py",
   "mimetype": "text/x-python",
   "name": "python",
   "nbconvert_exporter": "python",
   "pygments_lexer": "ipython3",
   "version": "3.7.4"
  }
 },
 "nbformat": 4,
 "nbformat_minor": 2
}
